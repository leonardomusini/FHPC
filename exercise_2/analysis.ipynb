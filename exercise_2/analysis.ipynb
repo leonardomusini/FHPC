{
 "cells": [
  {
   "cell_type": "code",
   "execution_count": 138,
   "metadata": {},
   "outputs": [],
   "source": [
    "import pandas as pd\n",
    "import matplotlib.pyplot as plt"
   ]
  },
  {
   "cell_type": "code",
   "execution_count": 139,
   "metadata": {},
   "outputs": [],
   "source": [
    "def plot_size(partition, precision):\n",
    "    \"\"\"\n",
    "    Parameters:\n",
    "        partition (str): The partition used (e.g., 'epyc', 'thin')\n",
    "        precision (str): The computation precision (e.g., 'double', 'float')\n",
    "\n",
    "    This function plots the runtime and GFLOPs for the three libraries and for both thread allocation policy.\n",
    "    \"\"\"\n",
    "    libraries = ['oblas', 'mkl', 'blis']\n",
    "    allocations = ['close', 'spread']\n",
    "\n",
    "    runtime_data = []\n",
    "    gflops_data = []\n",
    "\n",
    "    if partition == 'epyc':\n",
    "        if precision == 'float':\n",
    "            tpp = [5324.8, 'TPP 5324.8']\n",
    "        elif precision == 'double':\n",
    "            tpp = [2662.4, 'TPP 2662.4']\n",
    "    elif partition == 'thin':\n",
    "        if precision == 'float':\n",
    "            tpp = [1997, 'TPP 1997']\n",
    "        elif precision == 'double':\n",
    "            tpp = [998.5, 'TPP 998.5']\n",
    "\n",
    "    for library in libraries:\n",
    "        for allocation in allocations:\n",
    "            file_path = f'data/{partition}/size/{allocation}/{precision}_{library}_size_{allocation}_results.csv'\n",
    "            df = pd.read_csv(file_path)\n",
    "\n",
    "            agg_data = df.groupby('size').agg(\n",
    "                rt_mean=('runtime', 'mean'),\n",
    "                rt_std=('runtime', 'std'),\n",
    "                gf_mean=('GFLOPS', 'mean'),\n",
    "                gf_std=('GFLOPS', 'std')\n",
    "            ).reset_index()\n",
    "\n",
    "            runtime_data.append((f\"{library.upper()} ({allocation})\", agg_data['size'], agg_data['rt_mean'], agg_data['rt_std']))\n",
    "            gflops_data.append((f\"{library.upper()} ({allocation})\", agg_data['size'], agg_data['gf_mean'], agg_data['gf_std']))\n",
    "\n",
    "    # Plot Runtime vs Size for both allocations\n",
    "    plt.figure(figsize=(12, 6))\n",
    "    for label, sizes, rt_means, rt_stds in runtime_data:\n",
    "        plt.plot(sizes, rt_means, label=label, linestyle='-', marker='o')\n",
    "        plt.fill_between(\n",
    "            sizes,\n",
    "            rt_means - rt_stds,\n",
    "            rt_means + rt_stds,\n",
    "            alpha=0.2\n",
    "        )\n",
    "    plt.title(f'Runtime vs Size ({partition}, {precision})')\n",
    "    plt.xlabel('Size')\n",
    "    plt.ylabel('Runtime (s)')\n",
    "    plt.xticks(runtime_data[0][1])\n",
    "    plt.legend()\n",
    "    plt.grid(True)\n",
    "    plt.show()\n",
    "\n",
    "    plt.figure(figsize=(12, 6))\n",
    "    for label, sizes, gf_means, gf_stds in gflops_data:\n",
    "        plt.plot(sizes, gf_means, label=label, linestyle='-', marker='o')\n",
    "        plt.fill_between(\n",
    "            sizes,\n",
    "            gf_means - gf_stds,\n",
    "            gf_means + gf_stds,\n",
    "            alpha=0.2\n",
    "        )\n",
    "\n",
    "    plt.axhline(y=tpp[0], color='r', linestyle='--', label=tpp[1])\n",
    "    plt.title(f'GFLOPS vs Size ({partition}, {precision})')\n",
    "    plt.xlabel('Size')\n",
    "    plt.ylabel('GFLOPS')\n",
    "    plt.xticks(gflops_data[0][1])\n",
    "    plt.legend()\n",
    "    plt.grid(True)\n",
    "    plt.show()"
   ]
  },
  {
   "cell_type": "code",
   "execution_count": 140,
   "metadata": {},
   "outputs": [],
   "source": [
    "def plot_core(partition, precision):\n",
    "    \"\"\"\n",
    "    Parameters:\n",
    "        partition (str): The partition used (e.g., 'epyc', 'thin').\n",
    "        precision (str): The computation precision (e.g., 'double', 'float').\n",
    "\n",
    "    This function plots the runtime, GFLOPs, and speedup for the three libraries and for both thread allocation policy.\n",
    "    \"\"\"\n",
    "    libraries = ['oblas', 'mkl', 'blis']\n",
    "    allocations = ['close', 'spread']\n",
    "\n",
    "    runtime_data = []\n",
    "    gflops_data = []\n",
    "    speedup_data = []\n",
    "\n",
    "    for library in libraries:\n",
    "        for allocation in allocations:\n",
    "\n",
    "            file_path = f'data/{partition}/core/{allocation}/{precision}_{library}_core_{allocation}_results.csv'\n",
    "            df = pd.read_csv(file_path)\n",
    "\n",
    "            # Aggregate data (mean and std by threads)\n",
    "            agg_data = df.groupby('threads').agg(\n",
    "                rt_mean=('runtime', 'mean'),\n",
    "                rt_std=('runtime', 'std'),\n",
    "                gf_mean=('GFLOPS', 'mean'),\n",
    "                gf_std=('GFLOPS', 'std')\n",
    "            ).reset_index()\n",
    "\n",
    "            # Compute speedup\n",
    "            single_thread_runtime = agg_data.loc[agg_data['threads'] == 1, 'rt_mean'].values[0]\n",
    "            agg_data['speedup_mean'] = single_thread_runtime / agg_data['rt_mean']\n",
    "            agg_data['speedup_std'] = agg_data['rt_std'] / agg_data['rt_mean'] * agg_data['speedup_mean']\n",
    "\n",
    "            runtime_data.append((f\"{library.upper()} ({allocation})\", agg_data['threads'], agg_data['rt_mean'], agg_data['rt_std']))\n",
    "            gflops_data.append((f\"{library.upper()} ({allocation})\", agg_data['threads'], agg_data['gf_mean'], agg_data['gf_std']))\n",
    "            speedup_data.append((f\"{library.upper()} ({allocation})\", agg_data['threads'], agg_data['speedup_mean'], agg_data['speedup_std']))\n",
    "\n",
    "    # Combined Runtime Plot\n",
    "    plt.figure(figsize=(14, 6))\n",
    "    for label, threads, rt_means, rt_stds in runtime_data:\n",
    "        plt.plot(threads, rt_means, label=label, linestyle='-', marker='o')\n",
    "        plt.fill_between(\n",
    "            threads,\n",
    "            rt_means - rt_stds,\n",
    "            rt_means + rt_stds,\n",
    "            alpha=0.2\n",
    "        )\n",
    "    plt.title(f'Runtime vs Threads ({partition}, {precision})')\n",
    "    plt.xlabel('Threads')\n",
    "    plt.ylabel('Runtime (s)')\n",
    "    plt.xticks(runtime_data[0][1])\n",
    "    plt.legend()\n",
    "    plt.grid(True)\n",
    "    plt.show()\n",
    "\n",
    "    # Combined GFLOPS Plot\n",
    "    plt.figure(figsize=(14, 6))\n",
    "    for label, threads, gf_means, gf_stds in gflops_data:\n",
    "        plt.plot(threads, gf_means, label=label, linestyle='-', marker='o')\n",
    "        plt.fill_between(\n",
    "            threads,\n",
    "            gf_means - gf_stds,\n",
    "            gf_means + gf_stds,\n",
    "            alpha=0.2\n",
    "        )\n",
    "    plt.title(f'GFLOPS vs Threads ({partition}, {precision})')\n",
    "    plt.xlabel('Threads')\n",
    "    plt.ylabel('GFLOPS')\n",
    "    plt.xticks(gflops_data[0][1])\n",
    "    plt.legend()\n",
    "    plt.grid(True)\n",
    "    plt.show()\n",
    "\n",
    "    # Combined Speedup Plot\n",
    "    plt.figure(figsize=(14, 6))\n",
    "    for label, threads, speedup_means, speedup_stds in speedup_data:\n",
    "        plt.plot(threads, speedup_means, label=label, linestyle='-', marker='o')\n",
    "        plt.fill_between(\n",
    "            threads,\n",
    "            speedup_means - speedup_stds,\n",
    "            speedup_means + speedup_stds,\n",
    "            alpha=0.2\n",
    "        )\n",
    "    plt.plot(threads, threads, linestyle='--', color='r', label='Ideal Speedup') \n",
    "    plt.title(f'Speedup vs Threads ({partition}, {precision})')\n",
    "    plt.xlabel('Threads')\n",
    "    plt.ylabel('Speedup')\n",
    "    plt.xticks(speedup_data[0][1])\n",
    "    plt.legend()\n",
    "    plt.grid(True)\n",
    "    plt.show()"
   ]
  },
  {
   "cell_type": "markdown",
   "metadata": {},
   "source": [
    "# EPYC"
   ]
  },
  {
   "cell_type": "code",
   "execution_count": null,
   "metadata": {},
   "outputs": [],
   "source": [
    "plot_size('epyc', 'float')"
   ]
  },
  {
   "cell_type": "code",
   "execution_count": null,
   "metadata": {},
   "outputs": [],
   "source": [
    "plot_size('epyc', 'double')"
   ]
  },
  {
   "cell_type": "code",
   "execution_count": null,
   "metadata": {},
   "outputs": [],
   "source": [
    "plot_core('epyc', 'float')"
   ]
  },
  {
   "cell_type": "code",
   "execution_count": null,
   "metadata": {},
   "outputs": [],
   "source": [
    "plot_core('epyc', 'double')"
   ]
  },
  {
   "cell_type": "markdown",
   "metadata": {},
   "source": [
    "# THIN"
   ]
  },
  {
   "cell_type": "code",
   "execution_count": null,
   "metadata": {},
   "outputs": [],
   "source": [
    "plot_size('thin', 'float')"
   ]
  },
  {
   "cell_type": "code",
   "execution_count": null,
   "metadata": {},
   "outputs": [],
   "source": [
    "plot_size('thin', 'double')"
   ]
  },
  {
   "cell_type": "code",
   "execution_count": null,
   "metadata": {},
   "outputs": [],
   "source": [
    "plot_core('thin', 'float')"
   ]
  },
  {
   "cell_type": "code",
   "execution_count": null,
   "metadata": {},
   "outputs": [],
   "source": [
    "plot_core('thin', 'double')"
   ]
  }
 ],
 "metadata": {
  "kernelspec": {
   "display_name": "Python 3",
   "language": "python",
   "name": "python3"
  },
  "language_info": {
   "codemirror_mode": {
    "name": "ipython",
    "version": 3
   },
   "file_extension": ".py",
   "mimetype": "text/x-python",
   "name": "python",
   "nbconvert_exporter": "python",
   "pygments_lexer": "ipython3",
   "version": "3.11.9"
  }
 },
 "nbformat": 4,
 "nbformat_minor": 2
}
